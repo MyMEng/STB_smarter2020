{
 "metadata": {
  "language": "Julia",
  "name": "",
  "signature": "sha256:9c1b50628d714c7e7aed849dc53bd483ce8be6abee8f4796d41884b88829ec59"
 },
 "nbformat": 3,
 "nbformat_minor": 0,
 "worksheets": [
  {
   "cells": [
    {
     "cell_type": "code",
     "collapsed": false,
     "input": [
      "using Interact"
     ],
     "language": "python",
     "metadata": {},
     "outputs": [
      {
       "html": [
        "<script charset=\"utf-8\">(function ($, undefined) {\n",
        "\n",
        "    function createElem(tag, attr, content) {\n",
        "\t// TODO: remove jQuery dependency\n",
        "\tvar el = $(\"<\" + tag + \"/>\").attr(attr);\n",
        "\tif (content) {\n",
        "\t    el.append(content);\n",
        "\t}\n",
        "\treturn el[0];\n",
        "    }\n",
        "\n",
        "    // A widget must expose an id field which identifies it to the backend,\n",
        "    // an elem attribute which is will be added to the DOM, and\n",
        "    // a getState() method which returns the value to be sent to the backend\n",
        "    // a sendUpdate() method which sends its current value to the backend\n",
        "    var Widget = {\n",
        "\tid: undefined,\n",
        "\telem: undefined,\n",
        "\tlabel: undefined,\n",
        "\tgetState: function () {\n",
        "\t    return this.elem.value;\n",
        "\t},\n",
        "\tsendUpdate: undefined\n",
        "    };\n",
        "\n",
        "    var Slider = function (typ, id, init) {\n",
        "\tvar attr = { type:  \"range\",\n",
        "\t\t     value: init.value,\n",
        "\t\t     min:   init.min,\n",
        "\t\t     max:   init.max,\n",
        "\t\t     step:  init.step },\n",
        "\t    elem = createElem(\"input\", attr),\n",
        "\t    self = this;\n",
        "\n",
        "\telem.onchange = function () {\n",
        "\t    self.sendUpdate();\n",
        "\t}\n",
        "\n",
        "\tthis.id = id;\n",
        "\tthis.elem = elem;\n",
        "\tthis.label = init.label;\n",
        "\n",
        "\tInputWidgets.commInitializer(this); // Initialize communication\n",
        "    }\n",
        "    Slider.prototype = Widget;\n",
        "\n",
        "    var Checkbox = function (typ, id, init) {\n",
        "\tvar attr = { type: \"checkbox\",\n",
        "\t\t     checked: init.value },\n",
        "\t    elem = createElem(\"input\", attr),\n",
        "\t    self = this;\n",
        "\n",
        "\tthis.getState = function () {\n",
        "\t    return elem.checked;\n",
        "\t}\n",
        "\telem.onchange = function () {\n",
        "\t    self.sendUpdate();\n",
        "\t}\n",
        "\n",
        "\tthis.id = id;\n",
        "\tthis.elem = elem;\n",
        "\tthis.label = init.label;\n",
        "\n",
        "\tInputWidgets.commInitializer(this);\n",
        "    }\n",
        "    Checkbox.prototype = Widget;\n",
        "\n",
        "    var Button = function (typ, id, init) {\n",
        "\tvar attr = { type:    \"button\",\n",
        "\t\t     value:   init.label },\n",
        "\t    elem = createElem(\"input\", attr),\n",
        "\t    self = this;\n",
        "\tthis.getState = function () {\n",
        "\t    return null;\n",
        "\t}\n",
        "\telem.onclick = function () {\n",
        "\t    self.sendUpdate();\n",
        "\t}\n",
        "\n",
        "\tthis.id = id;\n",
        "\tthis.elem = elem;\n",
        "\tthis.label = init.label;\n",
        "\n",
        "\tInputWidgets.commInitializer(this);\n",
        "    }\n",
        "    Button.prototype = Widget;\n",
        "\n",
        "    var Text = function (typ, id, init) {\n",
        "\tvar attr = { type:  \"text\",\n",
        "\t\t     placeholder: init.label,\n",
        "\t\t     value: init.value },\n",
        "\t    elem = createElem(\"input\", attr),\n",
        "\t    self = this;\n",
        "\tthis.getState = function () {\n",
        "\t    return elem.value;\n",
        "\t}\n",
        "\telem.onkeyup = function () {\n",
        "\t    self.sendUpdate();\n",
        "\t}\n",
        "\n",
        "\tthis.id = id;\n",
        "\tthis.elem = elem;\n",
        "\tthis.label = init.label;\n",
        "\n",
        "\tInputWidgets.commInitializer(this);\n",
        "    }\n",
        "    Text.prototype = Widget;\n",
        "\n",
        "    var Textarea = function (typ, id, init) {\n",
        "\tvar attr = { placeholder: init.label },\n",
        "\t    elem = createElem(\"textarea\", attr, init.value),\n",
        "\t    self = this;\n",
        "\tthis.getState = function () {\n",
        "\t    return elem.value;\n",
        "\t}\n",
        "\telem.onchange = function () {\n",
        "\t    self.sendUpdate();\n",
        "\t}\n",
        "\n",
        "\tthis.id = id;\n",
        "\tthis.elem = elem;\n",
        "\tthis.label = init.label;\n",
        "\n",
        "\tInputWidgets.commInitializer(this);\n",
        "    }\n",
        "    Textarea.prototype = Widget;\n",
        "\n",
        "    // RadioButtons\n",
        "    // Dropdown\n",
        "    // HTML\n",
        "    // Latex\n",
        "\n",
        "    var InputWidgets = {\n",
        "\tSlider: Slider,\n",
        "\tCheckbox: Checkbox,\n",
        "\tButton: Button,\n",
        "\tText: Text,\n",
        "\tTextarea: Textarea,\n",
        "\tdebug: false,\n",
        "\tlog: function () {\n",
        "\t    if (InputWidgets.debug) {\n",
        "\t\tconsole.log.apply(console, arguments);\n",
        "\t    }\n",
        "\t},\n",
        "\t// a central way to initalize communication\n",
        "\t// for widgets.\n",
        "\tcommInitializer: function (widget) {\n",
        "\t    widget.sendUpdate = function () {};\n",
        "\t}\n",
        "    };\n",
        "\n",
        "    window.InputWidgets = InputWidgets;\n",
        "\n",
        "})(jQuery, undefined);\n",
        "</script>"
       ],
       "metadata": {},
       "output_type": "display_data"
      },
      {
       "html": [
        "<script charset=\"utf-8\">(function (IPython, $, _, MathJax, Widgets) {\n",
        "    $.event.special.destroyed = {\n",
        "\tremove: function(o) {\n",
        "\t    if (o.handler) {\n",
        "\t\to.handler.apply(this, arguments)\n",
        "\t    }\n",
        "\t}\n",
        "    }\n",
        "\n",
        "    var redrawValue = function (container, type, val) {\n",
        "\tvar selector = $(\"<div/>\");\n",
        "\tvar oa = new IPython.OutputArea(_.extend(selector, {\n",
        "\t    selector: selector,\n",
        "\t    prompt_area: true,\n",
        "\t    events: IPython.events,\n",
        "\t    keyboard_manager: IPython.keyboard_manager\n",
        "\t})); // Hack to work with IPython 2.1.0\n",
        "\n",
        "\tswitch (type) {\n",
        "\tcase \"image/png\":\n",
        "            var _src = 'data:' + type + ';base64,' + val;\n",
        "\t    $(container).find(\"img\").attr('src', _src);\n",
        "\t    break;\n",
        "\tdefault:\n",
        "\t    var toinsert = IPython.OutputArea.append_map[type].apply(\n",
        "\t\toa, [val, {}, selector]\n",
        "\t    );\n",
        "\t    $(container).empty().append(toinsert.contents());\n",
        "\t    selector.remove();\n",
        "\t}\n",
        "\tif (type === \"text/latex\" && MathJax) {\n",
        "\t    MathJax.Hub.Queue([\"Typeset\", MathJax.Hub, toinsert.get(0)]);\n",
        "\t}\n",
        "    }\n",
        "\n",
        "\n",
        "    $(document).ready(function() {\n",
        "\tWidgets.debug = false; // log messages etc in console.\n",
        "\tfunction initComm(evt, data) {\n",
        "\t    var comm_manager = data.kernel.comm_manager;\n",
        "\t    comm_manager.register_target(\"Signal\", function (comm) {\n",
        "\t\tcomm.on_msg(function (msg) {\n",
        "\t\t    //Widgets.log(\"message received\", msg);\n",
        "\t\t    var val = msg.content.data.value;\n",
        "\t\t    $(\".signal-\" + comm.comm_id).each(function() {\n",
        "\t\t\tvar type = $(this).data(\"type\");\n",
        "\t\t\tif (val[type]) {\n",
        "\t\t\t    redrawValue(this, type, val[type], type);\n",
        "\t\t\t}\n",
        "\t\t    });\n",
        "\t\t    delete val;\n",
        "\t\t    delete msg.content.data.value;\n",
        "\t\t});\n",
        "\t    });\n",
        "\n",
        "\t    // coordingate with Comm and redraw Signals\n",
        "\t    // XXX: Test using Reactive here to improve performance\n",
        "\t    $([IPython.events]).on(\n",
        "\t\t'output_appended.OutputArea', function (event, type, value, md, toinsert) {\n",
        "\t\t    if (md && md.reactive) {\n",
        "\t\t\t// console.log(md.comm_id);\n",
        "\t\t\ttoinsert.addClass(\"signal-\" + md.comm_id);\n",
        "\t\t\ttoinsert.data(\"type\", type);\n",
        "\t\t\t// Signal back indicating the mimetype required\n",
        "\t\t\tvar comm_manager = IPython.notebook.kernel.comm_manager;\n",
        "\t\t\tvar comm = comm_manager.comms[md.comm_id];\n",
        "\t\t\tcomm.send({action: \"subscribe_mime\",\n",
        "\t\t\t\t   mime: type});\n",
        "\t\t\ttoinsert.bind(\"destroyed\", function() {\n",
        "\t\t\t    comm.send({action: \"unsubscribe_mime\",\n",
        "\t\t\t\t       mime: type});\n",
        "\t\t\t});\n",
        "\t\t    }\n",
        "\t    });\n",
        "\n",
        "\t    // Set up communication for Widgets\n",
        "\t    Widgets.commInitializer = function (widget) {\n",
        "\t\tvar comm = comm_manager.new_comm(\n",
        "\t\t    \"InputWidget\", {widget_id: widget.id}\n",
        "\t\t);\n",
        "\t\twidget.sendUpdate = function () {\n",
        "\t\t    // `this` is a widget here.\n",
        "\t\t    // TODO: I have a feeling there's some\n",
        "\t\t    //       IPython bookkeeping to be done here.\n",
        "\t\t    // Widgets.log(\"State changed\", this, this.getState());\n",
        "\t\t    comm.send({value: this.getState()});\n",
        "\t\t}\n",
        "\t    };\n",
        "\t}\n",
        "\n",
        "\ttry {\n",
        "\t    // try to initialize right away. otherwise, wait on the status_started event.\n",
        "\t    initComm(undefined, IPython.notebook);\n",
        "\t} catch (e) {\n",
        "\t    $([IPython.events]).on('status_started.Kernel', initComm);\n",
        "\t}\n",
        "    });\n",
        "})(IPython, jQuery, _, MathJax, InputWidgets);\n",
        "</script>"
       ],
       "metadata": {},
       "output_type": "display_data"
      }
     ],
     "prompt_number": 1
    },
    {
     "cell_type": "markdown",
     "metadata": {},
     "source": [
      "# Reconstruction of sublevers in **Power** sector\n",
      "\n",
      "## Integration of off-grid renewables and storage\n",
      "\n",
      "Data:  \n",
      "Average number of hours a year: __hours__ = 365.25[days] * 24[hours/day] = 8766[hours]  \n",
      "Use of the generator over a year: __defaultPercentage__ = 5%  \n",
      "Generators run-time according to SMARTer 2020: __runtime__ = 400[hours]  \n",
      "Diese generators output power: __power__ = 600[GW] = 600,000[MW] = 600,000,000[kW]  \n",
      "__IndiaPower__ = 290[MW] = 290,000[kW]  \n",
      "__ChinaPower__ = 78[MW] = 78,000[kW]  \n",
      "Diesel used to generate electricity uses: __rate__ = 0.69 $kgCO_2$ per 1kWh\n",
      "\n",
      "---\n",
      "To calculate abatement potential we multiply __hours__ of year by __defaultPercentage__ of use per annum, multiplied by __power__ of the generators fleet and finally muliply by emission __rate__.  \n",
      "\n",
      "$abatementPotential = timeUsed * overallPower * emissionRate$"
     ]
    },
    {
     "cell_type": "code",
     "collapsed": false,
     "input": [
      "hours0 = 365.25 * 24;\n",
      "defaultPercentage = 5;\n",
      "DefaultRuntime = 400;\n",
      "power = 600000000;\n",
      "IndiaPower = 290000;\n",
      "ChinaPower = 78000;\n",
      "rate0 = 0.69;"
     ],
     "language": "python",
     "metadata": {},
     "outputs": [],
     "prompt_number": 2
    },
    {
     "cell_type": "code",
     "collapsed": false,
     "input": [
      "@manipulate for\n",
      "        scale = [ \"Giga\", \"Mega\"],\n",
      "        region = [ \"Global\", \"India\", \"China\"],\n",
      "        choice = [ \"Slider\", \"Default value of 400 hours\"],\n",
      "        percentage = slider(1:100, value=defaultPercentage, label=\"Percentage of time used\")\n",
      "    if region == \"Global\"\n",
      "        pw = power\n",
      "    elseif region == \"India\"\n",
      "        pw = IndiaPower\n",
      "    elseif region == \"China\"\n",
      "        pw = ChinaPower\n",
      "    end\n",
      "    \n",
      "    if scale == \"Giga\"\n",
      "        mp = 1000000000\n",
      "        elseif scale == \"Mega\"\n",
      "        mp = 1000000\n",
      "    end\n",
      "    \n",
      "    if choice == \"Slider\"\n",
      "        hoursUsed = percentage * hours0 / 100\n",
      "    elseif choice == \"Default value of 400 hours\"\n",
      "        hoursUsed = DefaultRuntime\n",
      "    end\n",
      "    energyUsed = pw * hoursUsed\n",
      "    CO2emitted = energyUsed * rate0 /1000 /mp # estimate in $GtCO_2e$\n",
      "end"
     ],
     "language": "python",
     "metadata": {},
     "outputs": [
      {
       "html": [],
       "metadata": {},
       "output_type": "display_data",
       "text": [
        "Options{:ToggleButtons,ASCIIString}([Input{ASCIIString}] Giga,\"scale\",\"Giga\",\"Giga\",[\"Giga\"=>\"Giga\",\"Mega\"=>\"Mega\"])"
       ]
      },
      {
       "html": [],
       "metadata": {},
       "output_type": "display_data",
       "text": [
        "Options{:ToggleButtons,ASCIIString}([Input{ASCIIString}] Global,\"region\",\"Global\",\"Global\",[\"Global\"=>\"Global\",\"India\"=>\"India\",\"China\"=>\"China\"])"
       ]
      },
      {
       "html": [],
       "metadata": {},
       "output_type": "display_data",
       "text": [
        "Options{:ToggleButtons,ASCIIString}([Input{ASCIIString}] Slider,\"choice\",\"Slider\",\"Slider\",[\"Slider\"=>\"Slider\",\"Default value of 400 hours\"=>\"Default value of 400 hours\"])"
       ]
      },
      {
       "html": [],
       "metadata": {},
       "output_type": "display_data",
       "text": [
        "Slider{Int64}([Input{Int64}] 5,\"Percentage of time used\",5,1:100)"
       ]
      },
      {
       "metadata": {
        "comm_id": "14882801-b930-4a8c-ae68-ffe05eef0622",
        "reactive": true
       },
       "output_type": "pyout",
       "prompt_number": 3,
       "text": [
        "0.1814562"
       ]
      }
     ],
     "prompt_number": 3
    },
    {
     "cell_type": "markdown",
     "metadata": {},
     "source": [
      "## Virtual power plant\n",
      "Data:  \n",
      "Future VPP capacity: worldwide: __VPPcapacity__ = 30[GW] = 30,000[MW] = 30,000,000[kW]  \n",
      "    China: __ChinaCapacity__ = 1[GW] = 1,000[MW] = 1,000,000[kW]  \n",
      "    India: __IndiaCapacity__ = 0[GW] = 0[MW] = 0[kW]  \n",
      "    Germany: __GermanyCapacity__ = 5[GW] = 5,000[MW] = 5,000,000[kW]  \n",
      "    USA: __USACapacity__ = 5[GW] = 5,000[MW] = 5,000,000[kW]  \n",
      "Renewable sources capacity: __rsc__ = 25%  \n",
      "Energy demand reduction: __edr__ = 1%  \n",
      "Amount of $kg$ of $CO_2$ produced per $kWh$ in energy generation:  __rate__ = 0.534[kg$CO_2$/kWh]\n",
      "\n",
      "---\n",
      "To calculate abatement potential we multiply __hours__ of year by power __capacity__ of selected country and the emission __rate__, and take the __percentage__ that corresponds to sum of __renewables share__ and __demand reduction__.  \n",
      "\n",
      "$abatementPotential = addressableEmission * ( renewableShare + demandReduction )$  \n",
      "$addressableEmission = overallPowerCapacity * timeUsed * emissionRate$"
     ]
    },
    {
     "cell_type": "code",
     "collapsed": false,
     "input": [
      "hours1 = 365.25 * 24;\n",
      "VPPcapacity = 30000000;\n",
      "ChinaPower = 1000000\n",
      "USAPower = 5000000\n",
      "IndiaPower = 0\n",
      "GermanyPower = 5000000\n",
      "rsc = 25;\n",
      "edr = 1;\n",
      "rate1 = 0.534;"
     ],
     "language": "python",
     "metadata": {},
     "outputs": [],
     "prompt_number": 4
    },
    {
     "cell_type": "code",
     "collapsed": false,
     "input": [
      "@manipulate for \n",
      "        scale = [ \"Giga\", \"Mega\"],\n",
      "        region = [ \"Global\", \"India\", \"China\", \"USA\", \"Germany\"],\n",
      "        renewablesShare = slider(1:100, value=rsc, label=\"Percentage of renewables share\"),\n",
      "        demandReduction = slider(1:100, value=edr, label=\"Percentage of demand reduction\"),\n",
      "        percentage = slider(1:100, value=100, label=\"Percentage of time used\")\n",
      "    if region == \"Global\"\n",
      "        pw = VPPcapacity\n",
      "    elseif region == \"India\"\n",
      "        pw = IndiaPower\n",
      "    elseif region == \"China\"\n",
      "        pw = ChinaPower\n",
      "    elseif region == \"USA\"\n",
      "        pw = USAPower\n",
      "        elseif region == \"Germany\"\n",
      "        pw = GermanyPower\n",
      "    end\n",
      "    \n",
      "    if scale == \"Giga\"\n",
      "        mp = 1000000000\n",
      "        elseif scale == \"Mega\"\n",
      "        mp = 1000000\n",
      "    end\n",
      "    \n",
      "    timeUsed = hours1 * percentage / 100\n",
      "\n",
      "    savingAmount = timeUsed * pw * (renewablesShare + demandReduction)/100\n",
      "\n",
      "    CO2emitted = savingAmount * rate1 /1000 /mp # estimate in $GtCO_2e$\n",
      "end"
     ],
     "language": "python",
     "metadata": {},
     "outputs": [
      {
       "html": [],
       "metadata": {},
       "output_type": "display_data",
       "text": [
        "Options{:ToggleButtons,ASCIIString}([Input{ASCIIString}] Giga,\"scale\",\"Giga\",\"Giga\",[\"Giga\"=>\"Giga\",\"Mega\"=>\"Mega\"])"
       ]
      },
      {
       "html": [],
       "metadata": {},
       "output_type": "display_data",
       "text": [
        "Options{:ToggleButtons,ASCIIString}([Input{ASCIIString}] Global,\"region\",\"Global\",\"Global\",[\"Global\"=>\"Global\",\"India\"=>\"India\",\"China\"=>\"China\",\"USA\"=>\"USA\",\"Germany\"=>\"Germany\"])"
       ]
      },
      {
       "html": [],
       "metadata": {},
       "output_type": "display_data",
       "text": [
        "Slider{Int64}([Input{Int64}] 25,\"Percentage of renewables share\",25,1:100)"
       ]
      },
      {
       "html": [],
       "metadata": {},
       "output_type": "display_data",
       "text": [
        "Slider{Int64}([Input{Int64}] 1,\"Percentage of demand reduction\",1,1:100)"
       ]
      },
      {
       "html": [],
       "metadata": {},
       "output_type": "display_data",
       "text": [
        "Slider{Int64}([Input{Int64}] 100,\"Percentage of time used\",100,1:100)"
       ]
      },
      {
       "metadata": {
        "comm_id": "ff12be54-863a-4ae7-b477-a8848859e0ba",
        "reactive": true
       },
       "output_type": "pyout",
       "prompt_number": 5,
       "text": [
        "0.0365121432"
       ]
      }
     ],
     "prompt_number": 5
    },
    {
     "cell_type": "markdown",
     "metadata": {},
     "source": [
      "## Demand Management\n",
      "Data:  \n",
      "Total Power Capacity: worldwide: __capacity__ = 6.9[TW] = 6,900[GW] = 6,900,000[MW] = 6,900,000,000[kW] | 5,300,000,000[kW]  \n",
      "    China: __ChinaCapacity__ = 2[TW] = 2,000[GW] = 2,000,000[MW] = 2,000,000,000[kW] | 1,100,000,000[kW]  \n",
      "    India: __IndiaCapacity__ = 0.39[TW] = 390[GW] = 390,000[MW] = 390,000,000[kW] | 200,000,000[kW]  \n",
      "    Germany: __GermanyCapacity__ = 1[TW] = 1,000[GW] = 1,000,000[MW] = 1,000,000,000[kW] | 200,000,000[kW]  \n",
      "    USA: __USACapacity__ = 1[TW] = 1,000[GW] = 1,000,000[MW] = 1,000,000,000[kW] | 1,100,000,000[kW]  \n",
      "Energy saving ratio due to Demand Managemenr: __drr__ = 65[Wh/W]  \n",
      "Saving potential: __sp__ = 4%  \n",
      "Amount of $kg$ of $CO_2$ produced per $kWh$ in energy generation: worldwide:  __rate__ =  0.55[kg$CO_2$/kWh] | 0.534[kg$CO_2$/kWh]  \n",
      "    China: __rateChina__ = 0.8[kg$CO_2$/kWh] | 0.790[kg$CO_2$/kWh]  \n",
      "    India: __rateIndia__ = 0.8[kg$CO_2$/kWh] | 0.936[kg$CO_2$/kWh]  \n",
      "    Germany: __rateGermany__ = 0.55[kg$CO_2$/kWh] | 0.468[kg$CO_2$/kWh]  \n",
      "    USA: __rateUSA__ = 0.55[kg$CO_2$/kWh] | 0.528[kg$CO_2$/kWh]  \n",
      "\n",
      "---\n",
      "To calculate abatement potential we multiply __powerCapacity__ of selected country by __reductionRate__ to get addressable poewr reduction. Then we multiply this value by corresponding __emissionRate__ to get addressable emission; and finally, we multiply that by __savingPotential__ to get __abatementPotential__.\n",
      "\n",
      "$reducedCapacity = capacity * reductionRate$  \n",
      "$addressableEmission = reducedCapacity * emissionRate$  \n",
      "$abatementPotential = addressableEmission * savingPotential$"
     ]
    },
    {
     "cell_type": "code",
     "collapsed": false,
     "input": [
      "capacity = 6900000000;\n",
      "ChinaCapacity = 2000000000;\n",
      "USACapacity = 1000000000;\n",
      "IndiaCapacity = 390000000;\n",
      "GermanyCapacity = 1000000000;\n",
      "capacity2 = 5300000000;\n",
      "ChinaCapacity2 = 1100000000;\n",
      "USACapacity2 = 1100000000;\n",
      "IndiaCapacity2 = 200000000;\n",
      "GermanyCapacity2 = 200000000;\n",
      "rate7_1 = 0.55;\n",
      "rate7_2 = 0.534;\n",
      "rate7_1_china = 0.8;\n",
      "rate7_2_china = 0.79;\n",
      "rate7_1_usa = 0.55;\n",
      "rate7_2_usa = 0.528;\n",
      "rate7_1_germany = 0.55;\n",
      "rate7_2_germany = 0.468;\n",
      "rate7_1_india = 0.8;\n",
      "rate7_2_india = 0.936;\n",
      "drr = 65;\n",
      "sp = 4;"
     ],
     "language": "python",
     "metadata": {},
     "outputs": [],
     "prompt_number": 6
    },
    {
     "cell_type": "code",
     "collapsed": false,
     "input": [
      "@manipulate for \n",
      "        scale = [ \"Giga\", \"Mega\"],\n",
      "        region = [ \"Global\", \"India\", \"China\", \"USA\", \"Germany\"],\n",
      "        regionCapacity = [ \"SMARTer power capacity\", \"external power capacity\"],\n",
      "        regionEmission = [ \"SMARTer emission rate\", \"external emission rate\"],\n",
      "        DRreduction = slider(1:100, value=drr, label=\"DR reduction rate in [Wh/W]\"),\n",
      "        savingPotential = slider(1:100, value=sp, label=\"Saving potential\")\n",
      "    \n",
      "    if regionCapacity == \"SMARTer power capacity\"\n",
      "        if region == \"Global\"\n",
      "            pw = capacity\n",
      "        elseif region == \"India\"\n",
      "            pw = IndiaCapacity\n",
      "        elseif region == \"China\"\n",
      "            pw = ChinaCapacity\n",
      "        elseif region == \"USA\"\n",
      "            pw = USACapacity\n",
      "        elseif region == \"Germany\"\n",
      "            pw = GermanyCapacity\n",
      "        end\n",
      "        elseif regionCapacity == \"external power capacity\"\n",
      "        if region == \"Global\"\n",
      "            pw = capacity2\n",
      "        elseif region == \"India\"\n",
      "            pw = IndiaCapacity2\n",
      "        elseif region == \"China\"\n",
      "            pw = ChinaCapacity2\n",
      "        elseif region == \"USA\"\n",
      "            pw = USACapacity2\n",
      "        elseif region == \"Germany\"\n",
      "            pw = GermanyCapacity2\n",
      "        end\n",
      "    end\n",
      "    \n",
      "    if scale == \"Giga\"\n",
      "        mp = 1000000000\n",
      "    elseif scale == \"Mega\"\n",
      "        mp = 1000000\n",
      "    end\n",
      "    \n",
      "    if regionEmission == \"SMARTer emission rate\"\n",
      "        if region == \"Global\"\n",
      "            rate7 = rate7_1\n",
      "        elseif region == \"India\"\n",
      "            rate7 = rate7_1_india\n",
      "        elseif region == \"China\"\n",
      "            rate7 = rate7_1_china\n",
      "        elseif region == \"USA\"\n",
      "            rate7 = rate7_1_usa\n",
      "        elseif region == \"Germany\"\n",
      "            rate7 = rate7_1_germany\n",
      "        end\n",
      "    elseif regionEmission == \"external emission rate\"\n",
      "        if region == \"Global\"\n",
      "            rate7 = rate7_2\n",
      "        elseif region == \"India\"\n",
      "            rate7 = rate7_2_india\n",
      "        elseif region == \"China\"\n",
      "            rate7 = rate7_2_china\n",
      "        elseif region == \"USA\"\n",
      "            rate7 = rate7_2_usa\n",
      "        elseif region == \"Germany\"\n",
      "            rate7 = rate7_2_germany\n",
      "        end\n",
      "    end\n",
      "    \n",
      "    savings = pw * DRreduction\n",
      "    \n",
      "    addressableEmission = savings * rate7 / 1000 / mp\n",
      "    \n",
      "    abatement = savingPotential * addressableEmission / 100\n",
      "end"
     ],
     "language": "python",
     "metadata": {},
     "outputs": [
      {
       "html": [],
       "metadata": {},
       "output_type": "display_data",
       "text": [
        "Options{:ToggleButtons,ASCIIString}([Input{ASCIIString}] Giga,\"scale\",\"Giga\",\"Giga\",[\"Giga\"=>\"Giga\",\"Mega\"=>\"Mega\"])"
       ]
      },
      {
       "html": [],
       "metadata": {},
       "output_type": "display_data",
       "text": [
        "Options{:ToggleButtons,ASCIIString}([Input{ASCIIString}] Global,\"region\",\"Global\",\"Global\",[\"Global\"=>\"Global\",\"India\"=>\"India\",\"China\"=>\"China\",\"USA\"=>\"USA\",\"Germany\"=>\"Germany\"])"
       ]
      },
      {
       "html": [],
       "metadata": {},
       "output_type": "display_data",
       "text": [
        "Options{:ToggleButtons,ASCIIString}([Input{ASCIIString}] SMARTer power capacity,\"regionCapacity\",\"SMARTer power capacity\",\"SMARTer power capacity\",[\"SMARTer power capacity\"=>\"SMARTer power capacity\",\"external power capacity\"=>\"external power capacity\"])"
       ]
      },
      {
       "html": [],
       "metadata": {},
       "output_type": "display_data",
       "text": [
        "Options{:ToggleButtons,ASCIIString}([Input{ASCIIString}] SMARTer emission rate,\"regionEmission\",\"SMARTer emission rate\",\"SMARTer emission rate\",[\"SMARTer emission rate\"=>\"SMARTer emission rate\",\"external emission rate\"=>\"external emission rate\"])"
       ]
      },
      {
       "html": [],
       "metadata": {},
       "output_type": "display_data",
       "text": [
        "Slider{Int64}([Input{Int64}] 65,\"DR reduction rate in [Wh/W]\",65,1:100)"
       ]
      },
      {
       "html": [],
       "metadata": {},
       "output_type": "display_data",
       "text": [
        "Slider{Int64}([Input{Int64}] 4,\"Saving potential\",4,1:100)"
       ]
      },
      {
       "metadata": {
        "comm_id": "8214e8d3-5697-46b2-a3c6-d6ee629af24d",
        "reactive": true
       },
       "output_type": "pyout",
       "prompt_number": 7,
       "text": [
        "0.009867"
       ]
      }
     ],
     "prompt_number": 7
    },
    {
     "cell_type": "markdown",
     "metadata": {},
     "source": [
      "## Time-of-day pricing\n",
      "Data:  \n",
      "Total Power Emission (SMARTer): worldwide: __emission__ = 21.48[Gt$CO_2$e] = 21480[Mt$CO_2$e]  \n",
      "    China: __ChinaEmission__ = 7917[Mt$CO_2$e]  \n",
      "    India: __IndiaEmission__ = 1378[Mt$CO_2$e]  \n",
      "    Germany: __GermanyEmission__ = 2165[Mt$CO_2$e]  \n",
      "    USA: __USAEmission__ = 2165[Mt$CO_2$e]  \n",
      "    \n",
      "Total Electricity Generation: worldwide: __generation__ = 21081[TWh]  \n",
      "    China: __ChinaGeneration__ = 4491[TWh]  \n",
      "    USA: __USAGeneration__ = 4048[TWh]  \n",
      "    Germany: __GermanyGeneration__ = 576[TWh]  \n",
      "    India: __IndiaGeneration__ = 975[TWh]  \n",
      "\n",
      "    \n",
      "Amount of $kg$ of $CO_2$ produced per $kWh$ in energy generation: worldwide:  __rate__ =  0.55[kg$CO_2$/kWh] | 0.534[kg$CO_2$/kWh]  \n",
      "    China: __rateChina__ = 0.8[kg$CO_2$/kWh] | 0.790[kg$CO_2$/kWh]  \n",
      "    India: __rateIndia__ = 0.8[kg$CO_2$/kWh] | 0.936[kg$CO_2$/kWh]  \n",
      "    Germany: __rateGermany__ = 0.55[kg$CO_2$/kWh] | 0.468[kg$CO_2$/kWh]  \n",
      "    USA: __rateUSA__ = 0.55[kg$CO_2$/kWh] | 0.528[kg$CO_2$/kWh]  \n",
      "\n",
      "Saving potential: __sp__ = 1%\n",
      "\n",
      "---\n",
      "To calculate abatement potential we multiply __energyGeneration__ of selected country by __emissionRate__ to get addressable emission. Then we multiply this value by corresponding __savingPotential__ to get __abatementPotential__.\n",
      "\n",
      "$addressableEmission = energyGeneration * emissionRate$  \n",
      "$abatementPotential = addressableEmission * savingPotential$"
     ]
    },
    {
     "cell_type": "code",
     "collapsed": false,
     "input": [
      "emission = 21480000000000;\n",
      "ChinaEmission = 7917000000000;\n",
      "IndiaEmission = 1378000000000;\n",
      "GermanyEmission = 2165000000000;\n",
      "USAEmission = 2165000000000;\n",
      "\n",
      "generation = 21081000000000;\n",
      "ChinaGeneration = 4491000000000;\n",
      "IndiaGeneration = 975000000000;\n",
      "GermanyGeneration = 576000000000;\n",
      "USAGeneration = 4048000000000;\n",
      "\n",
      "rate6_1 = 0.55;\n",
      "rate6_2 = 0.534;\n",
      "rate6_1_china = 0.8;\n",
      "rate6_2_china = 0.79;\n",
      "rate6_1_usa = 0.55;\n",
      "rate6_2_usa = 0.528;\n",
      "rate6_1_germany = 0.55;\n",
      "rate6_2_germany = 0.468;\n",
      "rate6_1_india = 0.8;\n",
      "rate6_2_india = 0.936;\n",
      "\n",
      "sp = 1;"
     ],
     "language": "python",
     "metadata": {},
     "outputs": [],
     "prompt_number": 8
    },
    {
     "cell_type": "code",
     "collapsed": false,
     "input": [
      "@manipulate for \n",
      "        scale = [ \"Giga\", \"Mega\"],\n",
      "        region = [ \"Global\", \"India\", \"China\", \"USA\", \"Germany\"],\n",
      "        emissionFactor = [ \"SMARTer emission\", \"Ex generation * SMARTer emission rate\", \"Ex generation * Ex. emission rate\"],\n",
      "        savingPotential = slider(1:100, value=sp, label=\"Saving potential\")\n",
      "    \n",
      "    if emissionFactor == \"SMARTer emission\"\n",
      "        if region == \"Global\"\n",
      "            pw = emission\n",
      "        elseif region == \"India\"\n",
      "            pw = IndiaEmission\n",
      "        elseif region == \"China\"\n",
      "            pw = ChinaEmission\n",
      "        elseif region == \"USA\"\n",
      "            pw = USAEmission\n",
      "        elseif region == \"Germany\"\n",
      "            pw = GermanyEmission\n",
      "        end\n",
      "    elseif emissionFactor == \"Ex generation * SMARTer emission rate\"\n",
      "        if region == \"Global\"\n",
      "            pw = generation * rate6_1\n",
      "        elseif region == \"India\"\n",
      "            pw = IndiaGeneration * rate6_1_india\n",
      "        elseif region == \"China\"\n",
      "            pw = ChinaGeneration * rate6_1_china\n",
      "        elseif region == \"USA\"\n",
      "            pw = USAGeneration * rate6_1_usa\n",
      "        elseif region == \"Germany\"\n",
      "            pw = GermanyGeneration * rate6_1_germany\n",
      "        end\n",
      "    elseif emissionFactor == \"Ex generation * Ex. emission rate\"\n",
      "        if region == \"Global\"\n",
      "            pw = generation * rate6_2\n",
      "        elseif region == \"India\"\n",
      "            pw = IndiaGeneration * rate6_2_india\n",
      "        elseif region == \"China\"\n",
      "            pw = ChinaGeneration * rate6_2_china\n",
      "        elseif region == \"USA\"\n",
      "            pw = USAGeneration * rate6_2_usa\n",
      "        elseif region == \"Germany\"\n",
      "            pw = GermanyGeneration * rate6_2_germany\n",
      "        end\n",
      "    end\n",
      "    \n",
      "    if scale == \"Giga\"\n",
      "        mp = 1000000000\n",
      "    elseif scale == \"Mega\"\n",
      "        mp = 1000000\n",
      "    end\n",
      "    \n",
      "    savings = pw * savingPotential / 100\n",
      "    \n",
      "    addressableEmission = savings / 1000 / mp\n",
      "end"
     ],
     "language": "python",
     "metadata": {},
     "outputs": [
      {
       "html": [],
       "metadata": {},
       "output_type": "display_data",
       "text": [
        "Options{:ToggleButtons,ASCIIString}([Input{ASCIIString}] Giga,\"scale\",\"Giga\",\"Giga\",[\"Giga\"=>\"Giga\",\"Mega\"=>\"Mega\"])"
       ]
      },
      {
       "html": [],
       "metadata": {},
       "output_type": "display_data",
       "text": [
        "Options{:ToggleButtons,ASCIIString}([Input{ASCIIString}] Global,\"region\",\"Global\",\"Global\",[\"Global\"=>\"Global\",\"India\"=>\"India\",\"China\"=>\"China\",\"USA\"=>\"USA\",\"Germany\"=>\"Germany\"])"
       ]
      },
      {
       "html": [],
       "metadata": {},
       "output_type": "display_data",
       "text": [
        "Options{:ToggleButtons,ASCIIString}([Input{ASCIIString}] SMARTer emission,\"emissionFactor\",\"SMARTer emission\",\"SMARTer emission\",[\"SMARTer emission\"=>\"SMARTer emission\",\"Ex generation * SMARTer emission rate\"=>\"Ex generation * SMARTer emission rate\",\"Ex generation * Ex. emission rate\"=>\"Ex generation * Ex. emission rate\"])"
       ]
      },
      {
       "html": [],
       "metadata": {},
       "output_type": "display_data",
       "text": [
        "Slider{Int64}([Input{Int64}] 1,\"Saving potential\",1,1:100)"
       ]
      },
      {
       "metadata": {
        "comm_id": "f884a2cb-15c0-41a3-85cd-901d1b3fbc69",
        "reactive": true
       },
       "output_type": "pyout",
       "prompt_number": 9,
       "text": [
        "0.2148"
       ]
      }
     ],
     "prompt_number": 9
    },
    {
     "cell_type": "markdown",
     "metadata": {},
     "source": [
      "## Power load balancing\n",
      "Data:  \n",
      "Total Power Emission (SMARTer): worldwide: __emission__ = 0.64[Gt$CO_2$e] = 640[Mt$CO_2$e]  \n",
      "    China: __ChinaEmission__ = 14.3[Mt$CO_2$e]  \n",
      "    USA: __USAEmission__ = 21.8[Mt$CO_2$e]  \n",
      "    Germany: __GermanyEmission__ = 21.8[Mt$CO_2$e]  \n",
      "    India: __IndiaEmission__ = 16[Mt$CO_2$e]  \n",
      "\n",
      "India non-base capacity:  __IndiaGeneration__ = 19[TW] = 19,000,000,000[kW]\n",
      "\n",
      "---\n",
      "To calculate abatement potential we multiply __energyGeneration__ (non-base oil electricity generation) of selected country by __emissionRate__ to get addressable emission. Then we multiply this value by corresponding __savingPotential__ to get __abatementPotential__.\n",
      "\n",
      "$addressableEmission = energyGeneration * emissionRate$  \n",
      "$abatementPotential = addressableEmission * savingPotential$"
     ]
    },
    {
     "cell_type": "code",
     "collapsed": false,
     "input": [
      "emission = 640000000000;\n",
      "ChinaEmission = 14300000000;\n",
      "USAEmission = 21800000000;\n",
      "GermanyEmission = 21800000000;\n",
      "IndiaEmission = 16000000000;\n",
      "\n",
      "generation = 0;\n",
      "ChinaGeneration = 0;\n",
      "USAGeneration = 0;\n",
      "GermanyGeneration = 0;\n",
      "IndiaGeneration = 19000000000;\n",
      "\n",
      "rate5 = 0.534;\n",
      "rate5_china = 0.79;\n",
      "rate5_usa = 0.528;\n",
      "rate5_germany = 0.468;\n",
      "rate5_india = 0.936;\n",
      "\n",
      "sp = 60;"
     ],
     "language": "python",
     "metadata": {},
     "outputs": [],
     "prompt_number": 10
    },
    {
     "cell_type": "code",
     "collapsed": false,
     "input": [
      "@manipulate for \n",
      "        scale = [ \"Giga\", \"Mega\"],\n",
      "        region = [ \"Global\", \"India\", \"China\", \"USA\", \"Germany\"],\n",
      "        emissionFactor = [ \"SMARTer emission\", \"Ex. emission rate\"],\n",
      "        savingPotential = slider(1:100, value=sp, label=\"Saving potential\")\n",
      "    \n",
      "    if emissionFactor == \"SMARTer emission\"\n",
      "        if region == \"Global\"\n",
      "            pw = emission\n",
      "        elseif region == \"India\"\n",
      "            pw = IndiaEmission\n",
      "        elseif region == \"China\"\n",
      "            pw = ChinaEmission\n",
      "        elseif region == \"USA\"\n",
      "            pw = USAEmission\n",
      "        elseif region == \"Germany\"\n",
      "            pw = GermanyEmission\n",
      "        end\n",
      "    elseif emissionFactor == \"Ex. emission rate\"\n",
      "        if region == \"Global\"\n",
      "            pw = generation * rate5\n",
      "        elseif region == \"India\"\n",
      "            pw = IndiaGeneration * rate5_india\n",
      "        elseif region == \"China\"\n",
      "            pw = ChinaGeneration * rate5_china\n",
      "        elseif region == \"USA\"\n",
      "            pw = USAGeneration * rate5_usa\n",
      "        elseif region == \"Germany\"\n",
      "            pw = GermanyGeneration * rate5_germany\n",
      "        end\n",
      "    end\n",
      "    \n",
      "    if scale == \"Giga\"\n",
      "        mp = 1000000000\n",
      "    elseif scale == \"Mega\"\n",
      "        mp = 1000000\n",
      "    end\n",
      "    \n",
      "    addressableEmission = pw * savingPotential / 100 / 1000 / mp\n",
      "end"
     ],
     "language": "python",
     "metadata": {},
     "outputs": [
      {
       "html": [],
       "metadata": {},
       "output_type": "display_data",
       "text": [
        "Options{:ToggleButtons,ASCIIString}([Input{ASCIIString}] Giga,\"scale\",\"Giga\",\"Giga\",[\"Giga\"=>\"Giga\",\"Mega\"=>\"Mega\"])"
       ]
      },
      {
       "html": [],
       "metadata": {},
       "output_type": "display_data",
       "text": [
        "Options{:ToggleButtons,ASCIIString}([Input{ASCIIString}] Global,\"region\",\"Global\",\"Global\",[\"Global\"=>\"Global\",\"India\"=>\"India\",\"China\"=>\"China\",\"USA\"=>\"USA\",\"Germany\"=>\"Germany\"])"
       ]
      },
      {
       "html": [],
       "metadata": {},
       "output_type": "display_data",
       "text": [
        "Options{:ToggleButtons,ASCIIString}([Input{ASCIIString}] SMARTer emission,\"emissionFactor\",\"SMARTer emission\",\"SMARTer emission\",[\"SMARTer emission\"=>\"SMARTer emission\",\"Ex. emission rate\"=>\"Ex. emission rate\"])"
       ]
      },
      {
       "html": [],
       "metadata": {},
       "output_type": "display_data",
       "text": [
        "Slider{Int64}([Input{Int64}] 60,\"Saving potential\",60,1:100)"
       ]
      },
      {
       "metadata": {
        "comm_id": "b46edaf5-7e31-4d9b-a697-ed26434d163d",
        "reactive": true
       },
       "output_type": "pyout",
       "prompt_number": 11,
       "text": [
        "0.384"
       ]
      }
     ],
     "prompt_number": 11
    },
    {
     "cell_type": "markdown",
     "metadata": {},
     "source": [
      "## Power grid optimisation\n",
      "Data:  \n",
      "Total Power Emission (SMARTer): worldwide: __emission__ = 1.1[Gt$CO_2$e] = 1100[Mt$CO_2$e]  \n",
      "    China: __ChinaEmission__ = 475[Mt$CO_2$e]  \n",
      "    USA: __USAEmission__ = 151.6[Mt$CO_2$e]  \n",
      "    Germany: __GermanyEmission__ = 151.6[Mt$CO_2$e]  \n",
      "    India: __IndiaEmission__ = 303[Mt$CO_2$e]  \n",
      "    \n",
      "T&D loss: worldwide: __loss__ = 7% | 8.1%  \n",
      "    China: __ChinaLoss__ = 6% | 6%  \n",
      "    USA: __USALoss__ = 7% | 6%  \n",
      "    Germany: __GermanyLoss__ = 7% | 4%  \n",
      "    India: __IndiaLoss__ = 22% | 21%  \n",
      "\n",
      "Total Electricity Generation: worldwide: __generation__ = 21081[TWh]  \n",
      "    China: __ChinaGeneration__ = 4491[TWh]  \n",
      "    USA: __USAGeneration__ = 4048[TWh]  \n",
      "    Germany: __GermanyGeneration__ = 576[TWh]  \n",
      "    India: __IndiaGeneration__ = 975[TWh]  \n",
      "\n",
      "    \n",
      "Amount of $kg$ of $CO_2$ produced per $kWh$ in energy generation: worldwide:  __rate__ =  0.534[kg$CO_2$/kWh]  \n",
      "    China: __rateChina__ = 0.790[kg$CO_2$/kWh]  \n",
      "    India: __rateIndia__ = 0.936[kg$CO_2$/kWh]  \n",
      "    Germany: __rateGermany__ = 0.468[kg$CO_2$/kWh]  \n",
      "    USA: __rateUSA__ = 0.528[kg$CO_2$/kWh]  \n",
      "\n",
      "Saving potential: __sp__ = 30%\n",
      "\n",
      "\n",
      "---\n",
      "To calculate abatement potential we multiply __loss__ factor and __energyGeneration__ value of selected country to get energy lost during transmision and distribution. To get __addressableEmission__ we muliply it by __emissionRate__.Finally, we multiply this value by corresponding __savingPotential__ to get __abatementPotential__.\n",
      "\n",
      "$lostEnergy = loss * energyGeneration$\n",
      "$addressableEmission = lostEnergy * emissionRate$\n",
      "$abatementPotential = addressableEmission * savingPotential$"
     ]
    },
    {
     "cell_type": "code",
     "collapsed": false,
     "input": [
      "emission = 1100000000000;\n",
      "ChinaEmission = 475000000000;\n",
      "USAEmission = 151600000000;\n",
      "GermanyEmission = 151600000000;\n",
      "IndiaEmission = 303000000000;\n",
      "\n",
      "loss = 7;\n",
      "ChinaLoss = 6;\n",
      "USALoss = 7;\n",
      "GermanyLoss = 7;\n",
      "IndiaLoss = 22;\n",
      "\n",
      "generation = 21081000000000;\n",
      "ChinaGeneration = 4491000000000;\n",
      "IndiaGeneration = 975000000000;\n",
      "GermanyGeneration = 576000000000;\n",
      "USAGeneration = 4048000000000;\n",
      "\n",
      "lossIm = 8.1;\n",
      "ChinaLossIm = 6;\n",
      "USALossIm = 6;\n",
      "GermanyLossIm = 4;\n",
      "IndiaLossIm = 21;\n",
      "\n",
      "rate4 = 0.534;\n",
      "rate4_china = 0.79;\n",
      "rate4_usa = 0.528;\n",
      "rate4_germany = 0.468;\n",
      "rate4_india = 0.936;\n",
      "\n",
      "sp = 30;"
     ],
     "language": "python",
     "metadata": {},
     "outputs": [],
     "prompt_number": 12
    },
    {
     "cell_type": "code",
     "collapsed": false,
     "input": [
      "@manipulate for \n",
      "        scale = [ \"Giga\", \"Mega\"],\n",
      "        region = [ \"Global\", \"India\", \"China\", \"USA\", \"Germany\"],\n",
      "        emissionFactor = [ \"SMARTer emission\", \"Ex. emission rate\"],\n",
      "        savingPotential = slider(1:100, value=sp, label=\"Saving potential\")\n",
      "    \n",
      "    if emissionFactor == \"SMARTer emission\"\n",
      "        if region == \"Global\"\n",
      "            pw = emission# * loss\n",
      "        elseif region == \"India\"\n",
      "            pw = IndiaEmission# * IndiaLoss\n",
      "        elseif region == \"China\"\n",
      "            pw = ChinaEmission# * ChinaLoss\n",
      "        elseif region == \"USA\"\n",
      "            pw = USAEmission# * USALoss\n",
      "        elseif region == \"Germany\"\n",
      "            pw = GermanyEmission# * GermanyLoss\n",
      "        end\n",
      "    elseif emissionFactor == \"Ex. emission rate\"\n",
      "        if region == \"Global\"\n",
      "            pw = generation * rate4 * lossIm\n",
      "        elseif region == \"India\"\n",
      "            pw = IndiaGeneration * rate4_india * IndiaLossIm\n",
      "        elseif region == \"China\"\n",
      "            pw = ChinaGeneration * rate4_china * ChinaLossIm\n",
      "        elseif region == \"USA\"\n",
      "            pw = USAGeneration * rate4_usa * USALossIm\n",
      "        elseif region == \"Germany\"\n",
      "            pw = GermanyGeneration * rate4_germany * GermanyLossIm\n",
      "        end\n",
      "        pw = pw / 100\n",
      "    end\n",
      "    pw = pw / 1000\n",
      "    \n",
      "    if scale == \"Giga\"\n",
      "        mp = 1000000000\n",
      "    elseif scale == \"Mega\"\n",
      "        mp = 1000000\n",
      "    end\n",
      "    \n",
      "    addressableEmission = pw * savingPotential / 100 / mp\n",
      "end"
     ],
     "language": "python",
     "metadata": {},
     "outputs": [
      {
       "html": [],
       "metadata": {},
       "output_type": "display_data",
       "text": [
        "Options{:ToggleButtons,ASCIIString}([Input{ASCIIString}] Giga,\"scale\",\"Giga\",\"Giga\",[\"Giga\"=>\"Giga\",\"Mega\"=>\"Mega\"])"
       ]
      },
      {
       "html": [],
       "metadata": {},
       "output_type": "display_data",
       "text": [
        "Options{:ToggleButtons,ASCIIString}([Input{ASCIIString}] Global,\"region\",\"Global\",\"Global\",[\"Global\"=>\"Global\",\"India\"=>\"India\",\"China\"=>\"China\",\"USA\"=>\"USA\",\"Germany\"=>\"Germany\"])"
       ]
      },
      {
       "html": [],
       "metadata": {},
       "output_type": "display_data",
       "text": [
        "Options{:ToggleButtons,ASCIIString}([Input{ASCIIString}] SMARTer emission,\"emissionFactor\",\"SMARTer emission\",\"SMARTer emission\",[\"SMARTer emission\"=>\"SMARTer emission\",\"Ex. emission rate\"=>\"Ex. emission rate\"])"
       ]
      },
      {
       "html": [],
       "metadata": {},
       "output_type": "display_data",
       "text": [
        "Slider{Int64}([Input{Int64}] 30,\"Saving potential\",30,1:100)"
       ]
      },
      {
       "metadata": {
        "comm_id": "d49c8bcc-436a-434e-baae-48d126fe3605",
        "reactive": true
       },
       "output_type": "pyout",
       "prompt_number": 13,
       "text": [
        "0.33"
       ]
      }
     ],
     "prompt_number": 13
    },
    {
     "cell_type": "markdown",
     "metadata": {},
     "source": [
      "## Integration of renewables in power generation\n",
      "Data:  \n",
      "Addressable Emission (SMARTer): worldwide: __emission__ = 3.4[Gt$CO_2$e] = 3400[Mt$CO_2$e]  \n",
      "    China: __ChinaEmission__ = 152.8[Mt$CO_2$e]  \n",
      "    USA: __USAEmission__ = 84.7[Mt$CO_2$e]  \n",
      "    Germany: __GermanyEmission__ = 84.7[Mt$CO_2$e]  \n",
      "    India: __IndiaEmission__ = 95.2[Mt$CO_2$e]  \n",
      "    \n",
      "Saving potential: worldwide: __SP__ = 25%  \n",
      "    China: __ChinaSP__ = 100%  \n",
      "    USA: __USASP__ = 100%  \n",
      "    Germany: __GermanySP__ = 100%  \n",
      "    India: __IndiaSP__ = 25%  \n",
      "\n",
      "\n",
      "---\n",
      "To reconstruct the abatement potential we multiply __addressableEmission__ by __savingPotential__.\n",
      "\n",
      "$abatementPotential = addressableEmission * savingPotential$"
     ]
    },
    {
     "cell_type": "code",
     "collapsed": false,
     "input": [
      "emission = 3400000000000;\n",
      "ChinaEmission = 152800000000;\n",
      "USAEmission = 84700000000;\n",
      "GermanyEmission = 84700000000;\n",
      "IndiaEmission = 95200000000;\n",
      "\n",
      "emission2 = 0;\n",
      "ChinaEmission2 = 0;\n",
      "USAEmission2 = 0;\n",
      "GermanyEmission2 = 0;\n",
      "IndaEmission2 = 0;\n",
      "\n",
      "SP = 25;\n",
      "ChinaSP = 100;\n",
      "USASP = 100;\n",
      "GermanySP = 100;\n",
      "IndiaSP = 25;"
     ],
     "language": "python",
     "metadata": {},
     "outputs": [],
     "prompt_number": 14
    },
    {
     "cell_type": "code",
     "collapsed": false,
     "input": [
      "@manipulate for \n",
      "        scale = [ \"Giga\", \"Mega\"],\n",
      "        region = [ \"Global\", \"India\", \"China\", \"USA\", \"Germany\"],\n",
      "        emissionFactor = [ \"SMARTer emission\", \"Ex. emission rate\"]\n",
      "    \n",
      "    if emissionFactor == \"SMARTer emission\"\n",
      "        if region == \"Global\"\n",
      "            pw = emission * SP\n",
      "        elseif region == \"India\"\n",
      "            pw = IndiaEmission * IndiaSP\n",
      "        elseif region == \"China\"\n",
      "            pw = ChinaEmission * ChinaSP\n",
      "        elseif region == \"USA\"\n",
      "            pw = USAEmission * USASP\n",
      "        elseif region == \"Germany\"\n",
      "            pw = GermanyEmission * GermanySP\n",
      "        end\n",
      "    elseif emissionFactor == \"Ex. emission rate\"\n",
      "        if region == \"Global\"\n",
      "            pw = emission2 * SP\n",
      "        elseif region == \"India\"\n",
      "            pw = IndiaEmission2 * IndiaSP\n",
      "        elseif region == \"China\"\n",
      "            pw = ChinaEmission2 * ChinaSP\n",
      "        elseif region == \"USA\"\n",
      "            pw = USAEmission2 * USASP\n",
      "        elseif region == \"Germany\"\n",
      "            pw = GermanyEmission2 * GermanySP\n",
      "        end\n",
      "    end\n",
      "    pw = pw / 1000 / 100\n",
      "    \n",
      "    if scale == \"Giga\"\n",
      "        mp = 1000000000\n",
      "    elseif scale == \"Mega\"\n",
      "        mp = 1000000\n",
      "    end\n",
      "    \n",
      "    addressableEmission = pw / mp\n",
      "end"
     ],
     "language": "python",
     "metadata": {},
     "outputs": [
      {
       "html": [],
       "metadata": {},
       "output_type": "display_data",
       "text": [
        "Options{:ToggleButtons,ASCIIString}([Input{ASCIIString}] Giga,\"scale\",\"Giga\",\"Giga\",[\"Giga\"=>\"Giga\",\"Mega\"=>\"Mega\"])"
       ]
      },
      {
       "html": [],
       "metadata": {},
       "output_type": "display_data",
       "text": [
        "Options{:ToggleButtons,ASCIIString}([Input{ASCIIString}] Global,\"region\",\"Global\",\"Global\",[\"Global\"=>\"Global\",\"India\"=>\"India\",\"China\"=>\"China\",\"USA\"=>\"USA\",\"Germany\"=>\"Germany\"])"
       ]
      },
      {
       "html": [],
       "metadata": {},
       "output_type": "display_data",
       "text": [
        "Options{:ToggleButtons,ASCIIString}([Input{ASCIIString}] SMARTer emission,\"emissionFactor\",\"SMARTer emission\",\"SMARTer emission\",[\"SMARTer emission\"=>\"SMARTer emission\",\"Ex. emission rate\"=>\"Ex. emission rate\"])"
       ]
      },
      {
       "metadata": {
        "comm_id": "9d4d58a0-cbcc-4bd5-bade-f90dd03c5954",
        "reactive": true
       },
       "output_type": "pyout",
       "prompt_number": 15,
       "text": [
        "0.85"
       ]
      }
     ],
     "prompt_number": 15
    },
    {
     "cell_type": "code",
     "collapsed": false,
     "input": [],
     "language": "python",
     "metadata": {},
     "outputs": []
    }
   ],
   "metadata": {}
  }
 ]
}