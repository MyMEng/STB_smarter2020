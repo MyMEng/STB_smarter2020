{
 "metadata": {
  "language": "Julia",
  "name": "",
  "signature": "sha256:b7b0f025b673d75efb9b1399b736b841f526e757ff0b5201b7d6b3e885de2a42"
 },
 "nbformat": 3,
 "nbformat_minor": 0,
 "worksheets": [
  {
   "cells": [
    {
     "cell_type": "code",
     "collapsed": false,
     "input": [
      "using Gadfly, Interact, Reactive, DataStructures"
     ],
     "language": "python",
     "metadata": {},
     "outputs": [],
     "prompt_number": 99
    },
    {
     "cell_type": "markdown",
     "metadata": {},
     "source": [
      "# Reconstruction of sublevers in **Power** sector\n",
      "\n",
      "## Integration of off-grid renewables and storage\n",
      "\n",
      "Data:  \n",
      "Average number of hours a year: __hours__ = 365.25[days] * 24[hours/day] = 8766[hours]  \n",
      "Use of the generator over a year: __defaultPercentage__ = 5%  \n",
      "Generators run-time according to SMARTer 2020: __runtime__ = 400[hours]  \n",
      "Diese generators output power: __power__ = 600[GW] = 600,000[MW] = 600,000,000[kW]  \n",
      "__IndiaPower__ = 290[MW] = 290,000[kW]  \n",
      "__ChinaPower__ = 78[MW] = 78,000[kW]  \n",
      "Diesel used to generate electricity uses: __rate__ = 0.69 $kgCO_2$ per 1kWh\n",
      "\n",
      "---\n",
      "To calculate abatement potential we multiply __hours__ of year by __defaultPercentage__ of use per annum, multiplied by __power__ of the generators fleet and finally muliply by emission __rate__."
     ]
    },
    {
     "cell_type": "code",
     "collapsed": false,
     "input": [
      "hours = 365.25 * 24;\n",
      "defaultPercentage = 5;\n",
      "DefaultRuntime = 400;\n",
      "power = 600000000;\n",
      "IndiaPower = 290000;\n",
      "ChinaPower = 78000;\n",
      "rate = 0.69;"
     ],
     "language": "python",
     "metadata": {},
     "outputs": [],
     "prompt_number": 177
    },
    {
     "cell_type": "code",
     "collapsed": false,
     "input": [
      "@manipulate for scale = [ \"Giga\", \"Mega\"], region = [ \"Global\", \"India\", \"China\"], choice = [ \"Slider\", \"Default value of 400 hours\"], percentage = slider(1:100, value=defaultPercentage, label=\"Percentage of time used\")\n",
      "    if region == \"Global\"\n",
      "        pw = power\n",
      "    elseif region == \"India\"\n",
      "        pw = IndiaPower\n",
      "    elseif region == \"China\"\n",
      "        pw = ChinaPower\n",
      "    end\n",
      "    \n",
      "    if scale == \"Giga\"\n",
      "        mp = 1000000000\n",
      "        elseif scale == \"Mega\"\n",
      "        mp = 1000000\n",
      "    end\n",
      "    \n",
      "    if choice == \"Slider\"\n",
      "        hoursUsed = percentage * hours / 100\n",
      "    elseif choice == \"Default value of 400 hours\"\n",
      "        hoursUsed = DefaultRuntime\n",
      "    end\n",
      "    energyUsed = pw * hoursUsed\n",
      "    CO2emitted = energyUsed * rate /1000 /mp # estimate in $GtCO_2e$\n",
      "end"
     ],
     "language": "python",
     "metadata": {},
     "outputs": [
      {
       "html": [],
       "metadata": {},
       "output_type": "display_data",
       "text": [
        "Options{:ToggleButtons,ASCIIString}([Input{ASCIIString}] Giga,\"scale\",\"Giga\",\"Giga\",[\"Giga\"=>\"Giga\",\"Mega\"=>\"Mega\"])"
       ]
      },
      {
       "html": [],
       "metadata": {},
       "output_type": "display_data",
       "text": [
        "Options{:ToggleButtons,ASCIIString}([Input{ASCIIString}] Global,\"region\",\"Global\",\"Global\",[\"Global\"=>\"Global\",\"India\"=>\"India\",\"China\"=>\"China\"])"
       ]
      },
      {
       "html": [],
       "metadata": {},
       "output_type": "display_data",
       "text": [
        "Options{:ToggleButtons,ASCIIString}([Input{ASCIIString}] Slider,\"choice\",\"Slider\",\"Slider\",[\"Slider\"=>\"Slider\",\"Default value of 400 hours\"=>\"Default value of 400 hours\"])"
       ]
      },
      {
       "html": [],
       "metadata": {},
       "output_type": "display_data",
       "text": [
        "Slider{Int64}([Input{Int64}] 5,\"Percentage of time used\",5,1:100)"
       ]
      },
      {
       "metadata": {
        "comm_id": "c29038aa-c9a9-4764-824f-93a192523acc",
        "reactive": true
       },
       "output_type": "pyout",
       "prompt_number": 176,
       "text": [
        "0.1814562"
       ]
      }
     ],
     "prompt_number": 176
    },
    {
     "cell_type": "markdown",
     "metadata": {},
     "source": [
      "## Virtual power plant"
     ]
    },
    {
     "cell_type": "code",
     "collapsed": false,
     "input": [
      " #@sprintf(\"Hours used running generator: %f\", signal(hoursUsed))"
     ],
     "language": "python",
     "metadata": {},
     "outputs": []
    },
    {
     "cell_type": "code",
     "collapsed": false,
     "input": [
      "\n",
      "\n",
      "#display(g)\n",
      "\n",
      "#@manipulate for g = (1:50, value=7), \u03b1\n",
      "    # [\u03b2, -1] #, percentageUse=[1:100, 100*\u03b2]\n",
      "    # Gadfly.plot(y=rand(n), x=rand(n), g)\n",
      "    #@sprintf(\"%1.1f\", g)\n",
      "#end"
     ],
     "language": "python",
     "metadata": {},
     "outputs": [],
     "prompt_number": 69
    },
    {
     "cell_type": "code",
     "collapsed": false,
     "input": [],
     "language": "python",
     "metadata": {},
     "outputs": []
    }
   ],
   "metadata": {}
  }
 ]
}