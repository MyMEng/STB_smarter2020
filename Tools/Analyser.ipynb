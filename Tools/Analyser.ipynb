{
 "metadata": {
  "language": "Julia",
  "name": "",
  "signature": "sha256:4f94110a094478773e94eafb4cfd8df7196e7153a507a4bcae9f442c2573ad3d"
 },
 "nbformat": 3,
 "nbformat_minor": 0,
 "worksheets": [
  {
   "cells": [
    {
     "cell_type": "markdown",
     "metadata": {},
     "source": [
      "\u03b1 = 25"
     ]
    },
    {
     "cell_type": "code",
     "collapsed": false,
     "input": [
      "\u03b1 = 15"
     ],
     "language": "python",
     "metadata": {},
     "outputs": [
      {
       "metadata": {},
       "output_type": "pyout",
       "prompt_number": 1,
       "text": [
        "15"
       ]
      }
     ],
     "prompt_number": 1
    },
    {
     "cell_type": "code",
     "collapsed": false,
     "input": [],
     "language": "python",
     "metadata": {},
     "outputs": []
    }
   ],
   "metadata": {}
  }
 ]
}