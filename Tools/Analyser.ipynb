{
 "metadata": {
  "language": "Julia",
  "name": "",
  "signature": "sha256:1e3b8d4b9efa28ab94fe75ddd53de3d6440652bfed9579d3fee2b17822409b9b"
 },
 "nbformat": 3,
 "nbformat_minor": 0,
 "worksheets": [
  {
   "cells": [
    {
     "cell_type": "code",
     "collapsed": false,
     "input": [
      "using Gadfly, Interact, Reactive, DataStructures"
     ],
     "language": "python",
     "metadata": {},
     "outputs": [],
     "prompt_number": 192
    },
    {
     "cell_type": "markdown",
     "metadata": {},
     "source": [
      "# Reconstruction of sublevers in **Power** sector\n",
      "\n",
      "## Integration of off-grid renewables and storage\n",
      "\n",
      "Data:  \n",
      "Average number of hours a year: __hours__ = 365.25[days] * 24[hours/day] = 8766[hours]  \n",
      "Use of the generator over a year: __defaultPercentage__ = 5%  \n",
      "Generators run-time according to SMARTer 2020: __runtime__ = 400[hours]  \n",
      "Diese generators output power: __power__ = 600[GW] = 600,000[MW] = 600,000,000[kW]  \n",
      "__IndiaPower__ = 290[MW] = 290,000[kW]  \n",
      "__ChinaPower__ = 78[MW] = 78,000[kW]  \n",
      "Diesel used to generate electricity uses: __rate__ = 0.69 $kgCO_2$ per 1kWh\n",
      "\n",
      "---\n",
      "To calculate abatement potential we multiply __hours__ of year by __defaultPercentage__ of use per annum, multiplied by __power__ of the generators fleet and finally muliply by emission __rate__.  \n",
      "\n",
      "$abatementPotential = timeUsed * overallPower * emissionRate$"
     ]
    },
    {
     "cell_type": "code",
     "collapsed": false,
     "input": [
      "hours0 = 365.25 * 24;\n",
      "defaultPercentage = 5;\n",
      "DefaultRuntime = 400;\n",
      "power = 600000000;\n",
      "IndiaPower = 290000;\n",
      "ChinaPower = 78000;\n",
      "rate0 = 0.69;"
     ],
     "language": "python",
     "metadata": {},
     "outputs": [],
     "prompt_number": 193
    },
    {
     "cell_type": "code",
     "collapsed": false,
     "input": [
      "@manipulate for\n",
      "        scale = [ \"Giga\", \"Mega\"],\n",
      "        region = [ \"Global\", \"India\", \"China\"],\n",
      "        choice = [ \"Slider\", \"Default value of 400 hours\"],\n",
      "        percentage = slider(1:100, value=defaultPercentage, label=\"Percentage of time used\")\n",
      "    if region == \"Global\"\n",
      "        pw = power\n",
      "    elseif region == \"India\"\n",
      "        pw = IndiaPower\n",
      "    elseif region == \"China\"\n",
      "        pw = ChinaPower\n",
      "    end\n",
      "    \n",
      "    if scale == \"Giga\"\n",
      "        mp = 1000000000\n",
      "        elseif scale == \"Mega\"\n",
      "        mp = 1000000\n",
      "    end\n",
      "    \n",
      "    if choice == \"Slider\"\n",
      "        hoursUsed = percentage * hours0 / 100\n",
      "    elseif choice == \"Default value of 400 hours\"\n",
      "        hoursUsed = DefaultRuntime\n",
      "    end\n",
      "    energyUsed = pw * hoursUsed\n",
      "    CO2emitted = energyUsed * rate0 /1000 /mp # estimate in $GtCO_2e$\n",
      "end"
     ],
     "language": "python",
     "metadata": {},
     "outputs": [
      {
       "html": [],
       "metadata": {},
       "output_type": "display_data",
       "text": [
        "Options{:ToggleButtons,ASCIIString}([Input{ASCIIString}] Giga,\"scale\",\"Giga\",\"Giga\",[\"Giga\"=>\"Giga\",\"Mega\"=>\"Mega\"])"
       ]
      },
      {
       "html": [],
       "metadata": {},
       "output_type": "display_data",
       "text": [
        "Options{:ToggleButtons,ASCIIString}([Input{ASCIIString}] Global,\"region\",\"Global\",\"Global\",[\"Global\"=>\"Global\",\"India\"=>\"India\",\"China\"=>\"China\"])"
       ]
      },
      {
       "html": [],
       "metadata": {},
       "output_type": "display_data",
       "text": [
        "Options{:ToggleButtons,ASCIIString}([Input{ASCIIString}] Slider,\"choice\",\"Slider\",\"Slider\",[\"Slider\"=>\"Slider\",\"Default value of 400 hours\"=>\"Default value of 400 hours\"])"
       ]
      },
      {
       "html": [],
       "metadata": {},
       "output_type": "display_data",
       "text": [
        "Slider{Int64}([Input{Int64}] 5,\"Percentage of time used\",5,1:100)"
       ]
      },
      {
       "metadata": {
        "comm_id": "f2f9ae9a-300c-45a0-a881-2323e609a89b",
        "reactive": true
       },
       "output_type": "pyout",
       "prompt_number": 195,
       "text": [
        "0.1814562"
       ]
      }
     ],
     "prompt_number": 195
    },
    {
     "cell_type": "markdown",
     "metadata": {},
     "source": [
      "## Virtual power plant\n",
      "Data:  \n",
      "Future VPP capacity: worldwide: __VPPcapacity__ = 30[GW] = 30,000[MW] = 30,000,000[kW]  \n",
      "    China: __ChinaCapacity__ = 1[GW] = 1,000[MW] = 1,000,000[kW]  \n",
      "    India: __IndiaCapacity__ = 0[GW] = 0[MW] = 0[kW]  \n",
      "    Germany: __GermanyCapacity__ = 5[GW] = 5,000[MW] = 5,000,000[kW]  \n",
      "    USA: __USACapacity__ = 5[GW] = 5,000[MW] = 5,000,000[kW]  \n",
      "Renewable sources capacity: __rsc__ = 25%  \n",
      "Energy demand reduction: __edr__ = 1%  \n",
      "Amount of $kg$ of $CO_2$ produced per $kWh$ in energy generation:  __rate__ = 0.534[kg$CO_2$/kWh]\n",
      "\n",
      "---\n",
      "To calculate abatement potential we multiply __hours__ of year by power __capacity__ of selected country and the emission __rate__, and take the __percentage__ that corresponds to sum of __renewables share__ and __demand reduction__.  \n",
      "\n",
      "$abatementPotential = addressableEmission * ( renewableShare + demandReduction )$  \n",
      "$addressableEmission = overallPowerCapacity * timeUsed * emissionRate$"
     ]
    },
    {
     "cell_type": "code",
     "collapsed": false,
     "input": [
      "hours1 = 365.25 * 24;\n",
      "VPPcapacity = 30000000;\n",
      "ChinaPower = 1000000\n",
      "USAPower = 5000000\n",
      "IndiaPower = 0\n",
      "GermanyPower = 5000000\n",
      "rsc = 25;\n",
      "edr = 1;\n",
      "rate1 = 0.534;"
     ],
     "language": "python",
     "metadata": {},
     "outputs": [],
     "prompt_number": 196
    },
    {
     "cell_type": "code",
     "collapsed": false,
     "input": [
      "@manipulate for \n",
      "        scale = [ \"Giga\", \"Mega\"],\n",
      "        region = [ \"Global\", \"India\", \"China\", \"USA\", \"Germany\"],\n",
      "        renewablesShare = slider(1:100, value=rsc, label=\"Percentage of renewables share\"),\n",
      "        demandReduction = slider(1:100, value=edr, label=\"Percentage of demand reduction\"),\n",
      "        percentage = slider(1:100, value=100, label=\"Percentage of time used\")\n",
      "    if region == \"Global\"\n",
      "        pw = VPPcapacity\n",
      "    elseif region == \"India\"\n",
      "        pw = IndiaPower\n",
      "    elseif region == \"China\"\n",
      "        pw = ChinaPower\n",
      "    elseif region == \"USA\"\n",
      "        pw = USAPower\n",
      "        elseif region == \"Germany\"\n",
      "        pw = GermanyPower\n",
      "    end\n",
      "    \n",
      "    if scale == \"Giga\"\n",
      "        mp = 1000000000\n",
      "        elseif scale == \"Mega\"\n",
      "        mp = 1000000\n",
      "    end\n",
      "    \n",
      "    timeUsed = hours1 * percentage / 100\n",
      "\n",
      "    savingAmount = timeUsed * pw * (renewablesShare + demandReduction)/100\n",
      "\n",
      "    CO2emitted = savingAmount * rate1 /1000 /mp # estimate in $GtCO_2e$\n",
      "end"
     ],
     "language": "python",
     "metadata": {},
     "outputs": [
      {
       "html": [],
       "metadata": {},
       "output_type": "display_data",
       "text": [
        "Options{:ToggleButtons,ASCIIString}([Input{ASCIIString}] Giga,\"scale\",\"Giga\",\"Giga\",[\"Giga\"=>\"Giga\",\"Mega\"=>\"Mega\"])"
       ]
      },
      {
       "html": [],
       "metadata": {},
       "output_type": "display_data",
       "text": [
        "Options{:ToggleButtons,ASCIIString}([Input{ASCIIString}] Global,\"region\",\"Global\",\"Global\",[\"Global\"=>\"Global\",\"India\"=>\"India\",\"China\"=>\"China\",\"USA\"=>\"USA\",\"Germany\"=>\"Germany\"])"
       ]
      },
      {
       "html": [],
       "metadata": {},
       "output_type": "display_data",
       "text": [
        "Slider{Int64}([Input{Int64}] 25,\"Percentage of renewables share\",25,1:100)"
       ]
      },
      {
       "html": [],
       "metadata": {},
       "output_type": "display_data",
       "text": [
        "Slider{Int64}([Input{Int64}] 1,\"Percentage of demand reduction\",1,1:100)"
       ]
      },
      {
       "html": [],
       "metadata": {},
       "output_type": "display_data",
       "text": [
        "Slider{Int64}([Input{Int64}] 100,\"Percentage of time used\",100,1:100)"
       ]
      },
      {
       "metadata": {
        "comm_id": "1dda6b4a-0ee7-4659-8b21-85b6d552b185",
        "reactive": true
       },
       "output_type": "pyout",
       "prompt_number": 197,
       "text": [
        "0.0365121432"
       ]
      }
     ],
     "prompt_number": 197
    },
    {
     "cell_type": "markdown",
     "metadata": {},
     "source": [
      "## Demand Management\n",
      "Data:  \n",
      "Total Power Capacity: worldwide: __capacity__ = 6.9[TW] = 6,900[GW] = 6,900,000[MW] = 6,900,000,000[kW] | 5,300,000,000[kW]  \n",
      "    China: __ChinaCapacity__ = 2[TW] = 2,000[GW] = 2,000,000[MW] = 2,000,000,000[kW] | 1,100,000,000[kW]  \n",
      "    India: __IndiaCapacity__ = 0.39[TW] = 390[GW] = 390,000[MW] = 390,000,000[kW] | 200,000,000[kW]  \n",
      "    Germany: __GermanyCapacity__ = 1[TW] = 1,000[GW] = 1,000,000[MW] = 1,000,000,000[kW] | 200,000,000[kW]  \n",
      "    USA: __USACapacity__ = 1[TW] = 1,000[GW] = 1,000,000[MW] = 1,000,000,000[kW] | 1,100,000,000[kW]  \n",
      "Energy saving ratio due to Demand Managemenr: __drr__ = 65[Wh/W]  \n",
      "Saving potential: __sp__ = 4%  \n",
      "Amount of $kg$ of $CO_2$ produced per $kWh$ in energy generation: worldwide:  __rate__ =  0.55[kg$CO_2$/kWh] | 0.534[kg$CO_2$/kWh]  \n",
      "    China: __rateChina__ = 0.8[kg$CO_2$/kWh] | 0.790[kg$CO_2$/kWh]  \n",
      "    India: __rateIndia__ = 0.8[kg$CO_2$/kWh] | 0.936[kg$CO_2$/kWh]  \n",
      "    Germany: __rateGermany__ = 0.55[kg$CO_2$/kWh] | 0.468[kg$CO_2$/kWh]  \n",
      "    USA: __rateUSA__ = 0.55[kg$CO_2$/kWh] | 0.528[kg$CO_2$/kWh]  \n",
      "\n",
      "---\n",
      "To calculate abatement potential we multiply __powerCapacity__ of selected country by __reductionRate__ to get addressable poewr reduction. Then we multiply this value by corresponding __emissionRate__ to get addressable emission; and finally, we multiply that by __savingPotential__ to get __abatementPotential__.\n",
      "\n",
      "$reducedCapacity = capacity * reductionRate$  \n",
      "$addressableEmission = reducedCapacity * emissionRate$  \n",
      "$abatementPotential = addressableEmission * savingPotential$"
     ]
    },
    {
     "cell_type": "code",
     "collapsed": false,
     "input": [
      "capacity = 6900000000;\n",
      "ChinaCapacity = 2000000000;\n",
      "USACapacity = 1000000000;\n",
      "IndiaCapacity = 390000000;\n",
      "GermanyCapacity = 1000000000;\n",
      "capacity2 = 5300000000;\n",
      "ChinaCapacity2 = 1100000000;\n",
      "USACapacity2 = 1100000000;\n",
      "IndiaCapacity2 = 200000000;\n",
      "GermanyCapacity2 = 200000000;\n",
      "rate7_1 = 0.55;\n",
      "rate7_2 = 0.534;\n",
      "rate7_1_china = 0.8;\n",
      "rate7_2_china = 0.79;\n",
      "rate7_1_usa = 0.55;\n",
      "rate7_2_usa = 0.528;\n",
      "rate7_1_germany = 0.55;\n",
      "rate7_2_germany = 0.468;\n",
      "rate7_1_india = 0.8;\n",
      "rate7_2_india = 0.936;\n",
      "drr = 65;\n",
      "sp = 4;"
     ],
     "language": "python",
     "metadata": {},
     "outputs": [],
     "prompt_number": 222
    },
    {
     "cell_type": "code",
     "collapsed": false,
     "input": [
      "@manipulate for \n",
      "        scale = [ \"Giga\", \"Mega\"],\n",
      "        region = [ \"Global\", \"India\", \"China\", \"USA\", \"Germany\"],\n",
      "        regionCapacity = [ \"SMARTer power capacity\", \"external power capacity\"],\n",
      "        regionEmission = [ \"SMARTer emission rate\", \"external emission rate\"],\n",
      "        DRreduction = slider(1:100, value=drr, label=\"DR reduction rate in [Wh/W]\"),\n",
      "        savingPotential = slider(1:100, value=sp, label=\"Saving potential\")\n",
      "    \n",
      "    if regionCapacity == \"SMARTer power capacity\"\n",
      "        if region == \"Global\"\n",
      "            pw = capacity\n",
      "        elseif region == \"India\"\n",
      "            pw = IndiaCapacity\n",
      "        elseif region == \"China\"\n",
      "            pw = ChinaCapacity\n",
      "        elseif region == \"USA\"\n",
      "            pw = USACapacity\n",
      "        elseif region == \"Germany\"\n",
      "            pw = GermanyCapacity\n",
      "        end\n",
      "        elseif regionCapacity == \"external power capacity\"\n",
      "        if region == \"Global\"\n",
      "            pw = capacity2\n",
      "        elseif region == \"India\"\n",
      "            pw = IndiaCapacity2\n",
      "        elseif region == \"China\"\n",
      "            pw = ChinaCapacity2\n",
      "        elseif region == \"USA\"\n",
      "            pw = USACapacity2\n",
      "        elseif region == \"Germany\"\n",
      "            pw = GermanyCapacity2\n",
      "        end\n",
      "    end\n",
      "    \n",
      "    if scale == \"Giga\"\n",
      "        mp = 1000000000\n",
      "    elseif scale == \"Mega\"\n",
      "        mp = 1000000\n",
      "    end\n",
      "    \n",
      "    if regionEmission == \"SMARTer emission rate\"\n",
      "        if region == \"Global\"\n",
      "            rate7 = rate7_1\n",
      "        elseif region == \"India\"\n",
      "            rate7 = rate7_1_india\n",
      "        elseif region == \"China\"\n",
      "            rate7 = rate7_1_china\n",
      "        elseif region == \"USA\"\n",
      "            rate7 = rate7_1_usa\n",
      "        elseif region == \"Germany\"\n",
      "            rate7 = rate7_1_germany\n",
      "        end\n",
      "    elseif regionEmission == \"external emission rate\"\n",
      "        if region == \"Global\"\n",
      "            rate7 = rate7_2\n",
      "        elseif region == \"India\"\n",
      "            rate7 = rate7_2_india\n",
      "        elseif region == \"China\"\n",
      "            rate7 = rate7_2_china\n",
      "        elseif region == \"USA\"\n",
      "            rate7 = rate7_2_usa\n",
      "        elseif region == \"Germany\"\n",
      "            rate7 = rate7_2_germany\n",
      "        end\n",
      "    end\n",
      "    \n",
      "    savings = pw * DRreduction\n",
      "    \n",
      "    addressableEmission = savings * rate7 / 1000 / mp\n",
      "    \n",
      "    abatement = savingPotential * addressableEmission / 100\n",
      "end"
     ],
     "language": "python",
     "metadata": {},
     "outputs": [
      {
       "html": [],
       "metadata": {},
       "output_type": "display_data",
       "text": [
        "Options{:ToggleButtons,ASCIIString}([Input{ASCIIString}] Giga,\"scale\",\"Giga\",\"Giga\",[\"Giga\"=>\"Giga\",\"Mega\"=>\"Mega\"])"
       ]
      },
      {
       "html": [],
       "metadata": {},
       "output_type": "display_data",
       "text": [
        "Options{:ToggleButtons,ASCIIString}([Input{ASCIIString}] Global,\"region\",\"Global\",\"Global\",[\"Global\"=>\"Global\",\"India\"=>\"India\",\"China\"=>\"China\",\"USA\"=>\"USA\",\"Germany\"=>\"Germany\"])"
       ]
      },
      {
       "html": [],
       "metadata": {},
       "output_type": "display_data",
       "text": [
        "Options{:ToggleButtons,ASCIIString}([Input{ASCIIString}] SMARTer power capacity,\"regionCapacity\",\"SMARTer power capacity\",\"SMARTer power capacity\",[\"SMARTer power capacity\"=>\"SMARTer power capacity\",\"external power capacity\"=>\"external power capacity\"])"
       ]
      },
      {
       "html": [],
       "metadata": {},
       "output_type": "display_data",
       "text": [
        "Options{:ToggleButtons,ASCIIString}([Input{ASCIIString}] SMARTer emission rate,\"regionEmission\",\"SMARTer emission rate\",\"SMARTer emission rate\",[\"SMARTer emission rate\"=>\"SMARTer emission rate\",\"external emission rate\"=>\"external emission rate\"])"
       ]
      },
      {
       "html": [],
       "metadata": {},
       "output_type": "display_data",
       "text": [
        "Slider{Int64}([Input{Int64}] 65,\"DR reduction rate in [Wh/W]\",65,1:100)"
       ]
      },
      {
       "html": [],
       "metadata": {},
       "output_type": "display_data",
       "text": [
        "Slider{Int64}([Input{Int64}] 4,\"Saving potential\",4,1:100)"
       ]
      },
      {
       "metadata": {
        "comm_id": "3d8c2837-31c4-4b01-b6b6-b311441b648d",
        "reactive": true
       },
       "output_type": "pyout",
       "prompt_number": 227,
       "text": [
        "0.009867"
       ]
      }
     ],
     "prompt_number": 227
    },
    {
     "cell_type": "markdown",
     "metadata": {},
     "source": [
      "## Time-of-day pricing\n",
      "Data:  \n",
      "Total Power Emission (SMARTer): worldwide: __emission__ = 21.48[Gt$CO_2$e] = 21480[Mt$CO_2$e]  \n",
      "    China: __ChinaEmission__ = 7917[Mt$CO_2$e]  \n",
      "    India: __IndiaEmission__ = 1378[Mt$CO_2$e]  \n",
      "    Germany: __GermanyEmission__ = 2165[Mt$CO_2$e]  \n",
      "    USA: __USAEmission__ = 2165[Mt$CO_2$e]  \n",
      "    \n",
      "Total Electricity Generation: worldwide: __generation__ = 21081[TWh]  \n",
      "    China: __ChinaGeneration__ = 4491[TWh]  \n",
      "    USA: __USAGeneration__ = 4048[TWh]  \n",
      "    Germany: __GermanyGeneration__ = 576[TWh]  \n",
      "    India: __IndiaGeneration__ = 975[TWh]  \n",
      "\n",
      "    \n",
      "Amount of $kg$ of $CO_2$ produced per $kWh$ in energy generation: worldwide:  __rate__ =  0.55[kg$CO_2$/kWh] | 0.534[kg$CO_2$/kWh]  \n",
      "    China: __rateChina__ = 0.8[kg$CO_2$/kWh] | 0.790[kg$CO_2$/kWh]  \n",
      "    India: __rateIndia__ = 0.8[kg$CO_2$/kWh] | 0.936[kg$CO_2$/kWh]  \n",
      "    Germany: __rateGermany__ = 0.55[kg$CO_2$/kWh] | 0.468[kg$CO_2$/kWh]  \n",
      "    USA: __rateUSA__ = 0.55[kg$CO_2$/kWh] | 0.528[kg$CO_2$/kWh]  \n",
      "\n",
      "Saving potential: __sp__ = 1%\n",
      "\n",
      "---\n",
      "To calculate abatement potential we multiply __energyGeneration__ of selected country by __emissionRate__ to get addressable emission. Then we multiply this value by corresponding __savingPotential__ to get __abatementPotential__.\n",
      "\n",
      "$addressableEmission = energyGeneration * emissionRate$  \n",
      "$abatementPotential = addressableEmission * savingPotential$"
     ]
    },
    {
     "cell_type": "code",
     "collapsed": false,
     "input": [
      "emission = 21480000000000;\n",
      "ChinaEmission = 7917000000000;\n",
      "IndiaEmission = 1378000000000;\n",
      "GermanyEmission = 2165000000000;\n",
      "USAEmission = 2165000000000;\n",
      "\n",
      "generation = 21081000000000;\n",
      "ChinaGeneration = 4491000000000;\n",
      "IndiaGeneration = 975000000000;\n",
      "GermanyGeneration = 576000000000;\n",
      "USAGeneration = 4048000000000;\n",
      "\n",
      "rate6_1 = 0.55;\n",
      "rate6_2 = 0.534;\n",
      "rate6_1_china = 0.8;\n",
      "rate6_2_china = 0.79;\n",
      "rate6_1_usa = 0.55;\n",
      "rate6_2_usa = 0.528;\n",
      "rate6_1_germany = 0.55;\n",
      "rate6_2_germany = 0.468;\n",
      "rate6_1_india = 0.8;\n",
      "rate6_2_india = 0.936;\n",
      "\n",
      "sp = 1;"
     ],
     "language": "python",
     "metadata": {},
     "outputs": [],
     "prompt_number": 229
    },
    {
     "cell_type": "code",
     "collapsed": false,
     "input": [
      "@manipulate for \n",
      "        scale = [ \"Giga\", \"Mega\"],\n",
      "        region = [ \"Global\", \"India\", \"China\", \"USA\", \"Germany\"],\n",
      "        emissionFactor = [ \"SMARTer emission\", \"Ex generation * SMARTer emission rate\", \"Ex generation * Ex. emission rate\"],\n",
      "        savingPotential = slider(1:100, value=sp, label=\"Saving potential\")\n",
      "    \n",
      "    if emissionFactor == \"SMARTer emission\"\n",
      "        if region == \"Global\"\n",
      "            pw = emission\n",
      "        elseif region == \"India\"\n",
      "            pw = IndiaEmission\n",
      "        elseif region == \"China\"\n",
      "            pw = ChinaEmission\n",
      "        elseif region == \"USA\"\n",
      "            pw = USAEmission\n",
      "        elseif region == \"Germany\"\n",
      "            pw = GermanyEmission\n",
      "        end\n",
      "    elseif emissionFactor == \"Ex generation * SMARTer emission rate\"\n",
      "        if region == \"Global\"\n",
      "            pw = generation * rate6_1\n",
      "        elseif region == \"India\"\n",
      "            pw = IndiaGeneration * rate6_1_india\n",
      "        elseif region == \"China\"\n",
      "            pw = ChinaGeneration * rate6_1_china\n",
      "        elseif region == \"USA\"\n",
      "            pw = USAGeneration * rate6_1_usa\n",
      "        elseif region == \"Germany\"\n",
      "            pw = GermanyGeneration * rate6_1_germany\n",
      "        end\n",
      "    elseif emissionFactor == \"Ex generation * Ex. emission rate\"\n",
      "        if region == \"Global\"\n",
      "            pw = generation * rate6_2\n",
      "        elseif region == \"India\"\n",
      "            pw = IndiaGeneration * rate6_2_india\n",
      "        elseif region == \"China\"\n",
      "            pw = ChinaGeneration * rate6_2_china\n",
      "        elseif region == \"USA\"\n",
      "            pw = USAGeneration * rate6_2_usa\n",
      "        elseif region == \"Germany\"\n",
      "            pw = GermanyGeneration * rate6_2_germany\n",
      "        end\n",
      "    end\n",
      "    \n",
      "    if scale == \"Giga\"\n",
      "        mp = 1000000000\n",
      "    elseif scale == \"Mega\"\n",
      "        mp = 1000000\n",
      "    end\n",
      "    \n",
      "    savings = pw * savingPotential / 100\n",
      "    \n",
      "    addressableEmission = savings / 1000 / mp\n",
      "end"
     ],
     "language": "python",
     "metadata": {},
     "outputs": [
      {
       "html": [],
       "metadata": {},
       "output_type": "display_data",
       "text": [
        "Options{:ToggleButtons,ASCIIString}([Input{ASCIIString}] Giga,\"scale\",\"Giga\",\"Giga\",[\"Giga\"=>\"Giga\",\"Mega\"=>\"Mega\"])"
       ]
      },
      {
       "html": [],
       "metadata": {},
       "output_type": "display_data",
       "text": [
        "Options{:ToggleButtons,ASCIIString}([Input{ASCIIString}] Global,\"region\",\"Global\",\"Global\",[\"Global\"=>\"Global\",\"India\"=>\"India\",\"China\"=>\"China\",\"USA\"=>\"USA\",\"Germany\"=>\"Germany\"])"
       ]
      },
      {
       "html": [],
       "metadata": {},
       "output_type": "display_data",
       "text": [
        "Options{:ToggleButtons,ASCIIString}([Input{ASCIIString}] SMARTer emission,\"emissionFactor\",\"SMARTer emission\",\"SMARTer emission\",[\"SMARTer emission\"=>\"SMARTer emission\",\"Ex generation * SMARTer emission rate\"=>\"Ex generation * SMARTer emission rate\",\"Ex generation * Ex. emission rate\"=>\"Ex generation * Ex. emission rate\"])"
       ]
      },
      {
       "html": [],
       "metadata": {},
       "output_type": "display_data",
       "text": [
        "Slider{Int64}([Input{Int64}] 1,\"Saving potential\",1,1:100)"
       ]
      },
      {
       "metadata": {
        "comm_id": "1fc20930-14d0-408a-91a1-597be63c8505",
        "reactive": true
       },
       "output_type": "pyout",
       "prompt_number": 234,
       "text": [
        "0.2148"
       ]
      }
     ],
     "prompt_number": 234
    },
    {
     "cell_type": "markdown",
     "metadata": {},
     "source": [
      "## Power load balancing\n",
      "Data:  \n",
      "Total Power Emission (SMARTer): worldwide: __emission__ = 0.64[Gt$CO_2$e] = 640[Mt$CO_2$e]  \n",
      "    China: __ChinaEmission__ = 14.3[Mt$CO_2$e]  \n",
      "    USA: __USAEmission__ = 21.8[Mt$CO_2$e]  \n",
      "    Germany: __GermanyEmission__ = 21.8[Mt$CO_2$e]  \n",
      "    India: __IndiaEmission__ = 16[Mt$CO_2$e]  \n",
      "\n",
      "India non-base capacity:  __IndiaGeneration__ = 19[TW] = 19,000,000,000[kW]\n",
      "\n",
      "---\n",
      "To calculate abatement potential we multiply __energyGeneration__ (non-base oil electricity generation) of selected country by __emissionRate__ to get addressable emission. Then we multiply this value by corresponding __savingPotential__ to get __abatementPotential__.\n",
      "\n",
      "$addressableEmission = energyGeneration * emissionRate$  \n",
      "$abatementPotential = addressableEmission * savingPotential$"
     ]
    },
    {
     "cell_type": "code",
     "collapsed": false,
     "input": [
      "emission = 640000000000;\n",
      "ChinaEmission = 14300000000;\n",
      "USAEmission = 21800000000;\n",
      "GermanyEmission = 21800000000;\n",
      "IndiaEmission = 16000000000;\n",
      "\n",
      "generation = 0;\n",
      "ChinaGeneration = 0;\n",
      "USAGeneration = 0;\n",
      "GermanyGeneration = 0;\n",
      "IndiaGeneration = 19000000000;\n",
      "\n",
      "rate5 = 0.534;\n",
      "rate5_china = 0.79;\n",
      "rate5_usa = 0.528;\n",
      "rate5_germany = 0.468;\n",
      "rate5_india = 0.936;\n",
      "\n",
      "sp = 60;"
     ],
     "language": "python",
     "metadata": {},
     "outputs": [],
     "prompt_number": 245
    },
    {
     "cell_type": "code",
     "collapsed": false,
     "input": [
      "@manipulate for \n",
      "        scale = [ \"Giga\", \"Mega\"],\n",
      "        region = [ \"Global\", \"India\", \"China\", \"USA\", \"Germany\"],\n",
      "        emissionFactor = [ \"SMARTer emission\", \"Ex. emission rate\"],\n",
      "        savingPotential = slider(1:100, value=sp, label=\"Saving potential\")\n",
      "    \n",
      "    if emissionFactor == \"SMARTer emission\"\n",
      "        if region == \"Global\"\n",
      "            pw = emission\n",
      "        elseif region == \"India\"\n",
      "            pw = IndiaEmission\n",
      "        elseif region == \"China\"\n",
      "            pw = ChinaEmission\n",
      "        elseif region == \"USA\"\n",
      "            pw = USAEmission\n",
      "        elseif region == \"Germany\"\n",
      "            pw = GermanyEmission\n",
      "        end\n",
      "    elseif emissionFactor == \"Ex. emission rate\"\n",
      "        if region == \"Global\"\n",
      "            pw = generation * rate5\n",
      "        elseif region == \"India\"\n",
      "            pw = IndiaGeneration * rate5_india\n",
      "        elseif region == \"China\"\n",
      "            pw = ChinaGeneration * rate5_china\n",
      "        elseif region == \"USA\"\n",
      "            pw = USAGeneration * rate5_usa\n",
      "        elseif region == \"Germany\"\n",
      "            pw = GermanyGeneration * rate5_germany\n",
      "        end\n",
      "    end\n",
      "    \n",
      "    if scale == \"Giga\"\n",
      "        mp = 1000000000\n",
      "    elseif scale == \"Mega\"\n",
      "        mp = 1000000\n",
      "    end\n",
      "    \n",
      "    addressableEmission = pw * savingPotential / 100 / 1000 / mp\n",
      "end"
     ],
     "language": "python",
     "metadata": {},
     "outputs": [
      {
       "html": [],
       "metadata": {},
       "output_type": "display_data",
       "text": [
        "Options{:ToggleButtons,ASCIIString}([Input{ASCIIString}] Giga,\"scale\",\"Giga\",\"Giga\",[\"Giga\"=>\"Giga\",\"Mega\"=>\"Mega\"])"
       ]
      },
      {
       "html": [],
       "metadata": {},
       "output_type": "display_data",
       "text": [
        "Options{:ToggleButtons,ASCIIString}([Input{ASCIIString}] Global,\"region\",\"Global\",\"Global\",[\"Global\"=>\"Global\",\"India\"=>\"India\",\"China\"=>\"China\",\"USA\"=>\"USA\",\"Germany\"=>\"Germany\"])"
       ]
      },
      {
       "html": [],
       "metadata": {},
       "output_type": "display_data",
       "text": [
        "Options{:ToggleButtons,ASCIIString}([Input{ASCIIString}] SMARTer emission,\"emissionFactor\",\"SMARTer emission\",\"SMARTer emission\",[\"SMARTer emission\"=>\"SMARTer emission\",\"Ex. emission rate\"=>\"Ex. emission rate\"])"
       ]
      },
      {
       "html": [],
       "metadata": {},
       "output_type": "display_data",
       "text": [
        "Slider{Int64}([Input{Int64}] 60,\"Saving potential\",60,1:100)"
       ]
      },
      {
       "metadata": {
        "comm_id": "dfaa1785-77d3-4c29-8575-b4c76611f44a",
        "reactive": true
       },
       "output_type": "pyout",
       "prompt_number": 246,
       "text": [
        "0.384"
       ]
      }
     ],
     "prompt_number": 246
    },
    {
     "cell_type": "code",
     "collapsed": false,
     "input": [
      "#display(g)\n",
      "#@manipulate for g = (1:50, value=7), \u03b1\n",
      "    # [\u03b2, -1] #, percentageUse=[1:100, 100*\u03b2]\n",
      "    # Gadfly.plot(y=rand(n), x=rand(n), g)\n",
      "    #@sprintf(\"%1.1f\", g)\n",
      "     #@sprintf(\"Hours used running generator: %f\", signal(hoursUsed))\n",
      "#end"
     ],
     "language": "python",
     "metadata": {},
     "outputs": []
    }
   ],
   "metadata": {}
  }
 ]
}